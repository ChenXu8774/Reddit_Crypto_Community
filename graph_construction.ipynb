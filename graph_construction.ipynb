{
 "cells": [
  {
   "cell_type": "code",
   "execution_count": 135,
   "metadata": {},
   "outputs": [],
   "source": [
    "import pandas as pd\n",
    "import matplotlib.pyplot as plt\n",
    "from datetime import datetime\n",
    "from dateutil import tz"
   ]
  },
  {
   "cell_type": "markdown",
   "metadata": {},
   "source": [
    "## Read post and comment data and drop columns not used at current stage"
   ]
  },
  {
   "cell_type": "code",
   "execution_count": 136,
   "metadata": {},
   "outputs": [],
   "source": [
    "post = pd.read_csv(\"./SHIBArmy_submission_1yr.csv\")"
   ]
  },
  {
   "cell_type": "code",
   "execution_count": 137,
   "metadata": {},
   "outputs": [
    {
     "data": {
      "text/html": [
       "<div>\n",
       "<style scoped>\n",
       "    .dataframe tbody tr th:only-of-type {\n",
       "        vertical-align: middle;\n",
       "    }\n",
       "\n",
       "    .dataframe tbody tr th {\n",
       "        vertical-align: top;\n",
       "    }\n",
       "\n",
       "    .dataframe thead th {\n",
       "        text-align: right;\n",
       "    }\n",
       "</style>\n",
       "<table border=\"1\" class=\"dataframe\">\n",
       "  <thead>\n",
       "    <tr style=\"text-align: right;\">\n",
       "      <th></th>\n",
       "      <th>index</th>\n",
       "      <th>id</th>\n",
       "      <th>day</th>\n",
       "      <th>utc</th>\n",
       "      <th>title</th>\n",
       "      <th>author</th>\n",
       "      <th>author_fullname</th>\n",
       "      <th>author_created_utc</th>\n",
       "      <th>url</th>\n",
       "      <th>score</th>\n",
       "    </tr>\n",
       "  </thead>\n",
       "  <tbody>\n",
       "    <tr>\n",
       "      <th>0</th>\n",
       "      <td>1</td>\n",
       "      <td>npl6q0</td>\n",
       "      <td>2021-05-31</td>\n",
       "      <td>1622519996</td>\n",
       "      <td>What are the Pro's and Con's of staking SHIB o...</td>\n",
       "      <td>u/TANKLVMC</td>\n",
       "      <td>u/t2_a5clylu0</td>\n",
       "      <td>1.612344e+09</td>\n",
       "      <td>https://www.reddit.com/r/SHIBArmy/comments/npl...</td>\n",
       "      <td>5</td>\n",
       "    </tr>\n",
       "    <tr>\n",
       "      <th>1</th>\n",
       "      <td>2</td>\n",
       "      <td>npl5np</td>\n",
       "      <td>2021-05-31</td>\n",
       "      <td>1622519880</td>\n",
       "      <td>Has $Shib the highest percentage of your portf...</td>\n",
       "      <td>u/Supersandryx</td>\n",
       "      <td>u/t2_buzhz1as</td>\n",
       "      <td>1.620643e+09</td>\n",
       "      <td>https://www.reddit.com/r/SHIBArmy/comments/npl...</td>\n",
       "      <td>8</td>\n",
       "    </tr>\n",
       "    <tr>\n",
       "      <th>2</th>\n",
       "      <td>3</td>\n",
       "      <td>npl5gl</td>\n",
       "      <td>2021-05-31</td>\n",
       "      <td>1622519855</td>\n",
       "      <td>Received a reply from Robinhood</td>\n",
       "      <td>u/Ankush2021</td>\n",
       "      <td>u/t2_cgew3skd</td>\n",
       "      <td>1.622519e+09</td>\n",
       "      <td>https://www.reddit.com/r/SHIBArmy/comments/npl...</td>\n",
       "      <td>1</td>\n",
       "    </tr>\n",
       "    <tr>\n",
       "      <th>3</th>\n",
       "      <td>4</td>\n",
       "      <td>npl18y</td>\n",
       "      <td>2021-05-31</td>\n",
       "      <td>1622519435</td>\n",
       "      <td>can SHIB hit another ATH?</td>\n",
       "      <td>u/sittaman</td>\n",
       "      <td>u/t2_45p2j39</td>\n",
       "      <td>1.497539e+09</td>\n",
       "      <td>https://www.reddit.com/r/SHIBArmy/comments/npl...</td>\n",
       "      <td>16</td>\n",
       "    </tr>\n",
       "    <tr>\n",
       "      <th>4</th>\n",
       "      <td>5</td>\n",
       "      <td>npkz7l</td>\n",
       "      <td>2021-05-31</td>\n",
       "      <td>1622519243</td>\n",
       "      <td>The same wallet address on Etherscan has been ...</td>\n",
       "      <td>u/Comegetsome74</td>\n",
       "      <td>u/t2_c3cnmy83</td>\n",
       "      <td>1.621091e+09</td>\n",
       "      <td>https://www.reddit.com/r/SHIBArmy/comments/npk...</td>\n",
       "      <td>7</td>\n",
       "    </tr>\n",
       "  </tbody>\n",
       "</table>\n",
       "</div>"
      ],
      "text/plain": [
       "   index      id         day         utc  \\\n",
       "0      1  npl6q0  2021-05-31  1622519996   \n",
       "1      2  npl5np  2021-05-31  1622519880   \n",
       "2      3  npl5gl  2021-05-31  1622519855   \n",
       "3      4  npl18y  2021-05-31  1622519435   \n",
       "4      5  npkz7l  2021-05-31  1622519243   \n",
       "\n",
       "                                               title           author  \\\n",
       "0  What are the Pro's and Con's of staking SHIB o...       u/TANKLVMC   \n",
       "1  Has $Shib the highest percentage of your portf...   u/Supersandryx   \n",
       "2                    Received a reply from Robinhood     u/Ankush2021   \n",
       "3                          can SHIB hit another ATH?       u/sittaman   \n",
       "4  The same wallet address on Etherscan has been ...  u/Comegetsome74   \n",
       "\n",
       "  author_fullname  author_created_utc  \\\n",
       "0   u/t2_a5clylu0        1.612344e+09   \n",
       "1   u/t2_buzhz1as        1.620643e+09   \n",
       "2   u/t2_cgew3skd        1.622519e+09   \n",
       "3    u/t2_45p2j39        1.497539e+09   \n",
       "4   u/t2_c3cnmy83        1.621091e+09   \n",
       "\n",
       "                                                 url  score  \n",
       "0  https://www.reddit.com/r/SHIBArmy/comments/npl...      5  \n",
       "1  https://www.reddit.com/r/SHIBArmy/comments/npl...      8  \n",
       "2  https://www.reddit.com/r/SHIBArmy/comments/npl...      1  \n",
       "3  https://www.reddit.com/r/SHIBArmy/comments/npl...     16  \n",
       "4  https://www.reddit.com/r/SHIBArmy/comments/npk...      7  "
      ]
     },
     "execution_count": 137,
     "metadata": {},
     "output_type": "execute_result"
    }
   ],
   "source": [
    "post.head()"
   ]
  },
  {
   "cell_type": "code",
   "execution_count": 138,
   "metadata": {},
   "outputs": [],
   "source": [
    "post = post.drop(columns=['index','title','author_fullname','score'])"
   ]
  },
  {
   "cell_type": "code",
   "execution_count": 396,
   "metadata": {},
   "outputs": [
    {
     "data": {
      "text/html": [
       "<div>\n",
       "<style scoped>\n",
       "    .dataframe tbody tr th:only-of-type {\n",
       "        vertical-align: middle;\n",
       "    }\n",
       "\n",
       "    .dataframe tbody tr th {\n",
       "        vertical-align: top;\n",
       "    }\n",
       "\n",
       "    .dataframe thead th {\n",
       "        text-align: right;\n",
       "    }\n",
       "</style>\n",
       "<table border=\"1\" class=\"dataframe\">\n",
       "  <thead>\n",
       "    <tr style=\"text-align: right;\">\n",
       "      <th></th>\n",
       "      <th>id</th>\n",
       "      <th>day</th>\n",
       "      <th>utc</th>\n",
       "      <th>author</th>\n",
       "      <th>author_created_utc</th>\n",
       "      <th>url</th>\n",
       "    </tr>\n",
       "  </thead>\n",
       "  <tbody>\n",
       "    <tr>\n",
       "      <th>0</th>\n",
       "      <td>npl6q0</td>\n",
       "      <td>2021-05-31</td>\n",
       "      <td>1622519996</td>\n",
       "      <td>u/TANKLVMC</td>\n",
       "      <td>1.612344e+09</td>\n",
       "      <td>https://www.reddit.com/r/SHIBArmy/comments/npl...</td>\n",
       "    </tr>\n",
       "    <tr>\n",
       "      <th>1</th>\n",
       "      <td>npl5np</td>\n",
       "      <td>2021-05-31</td>\n",
       "      <td>1622519880</td>\n",
       "      <td>u/Supersandryx</td>\n",
       "      <td>1.620643e+09</td>\n",
       "      <td>https://www.reddit.com/r/SHIBArmy/comments/npl...</td>\n",
       "    </tr>\n",
       "    <tr>\n",
       "      <th>2</th>\n",
       "      <td>npl5gl</td>\n",
       "      <td>2021-05-31</td>\n",
       "      <td>1622519855</td>\n",
       "      <td>u/Ankush2021</td>\n",
       "      <td>1.622519e+09</td>\n",
       "      <td>https://www.reddit.com/r/SHIBArmy/comments/npl...</td>\n",
       "    </tr>\n",
       "    <tr>\n",
       "      <th>3</th>\n",
       "      <td>npl18y</td>\n",
       "      <td>2021-05-31</td>\n",
       "      <td>1622519435</td>\n",
       "      <td>u/sittaman</td>\n",
       "      <td>1.497539e+09</td>\n",
       "      <td>https://www.reddit.com/r/SHIBArmy/comments/npl...</td>\n",
       "    </tr>\n",
       "    <tr>\n",
       "      <th>4</th>\n",
       "      <td>npkz7l</td>\n",
       "      <td>2021-05-31</td>\n",
       "      <td>1622519243</td>\n",
       "      <td>u/Comegetsome74</td>\n",
       "      <td>1.621091e+09</td>\n",
       "      <td>https://www.reddit.com/r/SHIBArmy/comments/npk...</td>\n",
       "    </tr>\n",
       "  </tbody>\n",
       "</table>\n",
       "</div>"
      ],
      "text/plain": [
       "       id         day         utc           author  author_created_utc  \\\n",
       "0  npl6q0  2021-05-31  1622519996       u/TANKLVMC        1.612344e+09   \n",
       "1  npl5np  2021-05-31  1622519880   u/Supersandryx        1.620643e+09   \n",
       "2  npl5gl  2021-05-31  1622519855     u/Ankush2021        1.622519e+09   \n",
       "3  npl18y  2021-05-31  1622519435       u/sittaman        1.497539e+09   \n",
       "4  npkz7l  2021-05-31  1622519243  u/Comegetsome74        1.621091e+09   \n",
       "\n",
       "                                                 url  \n",
       "0  https://www.reddit.com/r/SHIBArmy/comments/npl...  \n",
       "1  https://www.reddit.com/r/SHIBArmy/comments/npl...  \n",
       "2  https://www.reddit.com/r/SHIBArmy/comments/npl...  \n",
       "3  https://www.reddit.com/r/SHIBArmy/comments/npl...  \n",
       "4  https://www.reddit.com/r/SHIBArmy/comments/npk...  "
      ]
     },
     "execution_count": 396,
     "metadata": {},
     "output_type": "execute_result"
    }
   ],
   "source": [
    "post.head()"
   ]
  },
  {
   "cell_type": "code",
   "execution_count": 140,
   "metadata": {},
   "outputs": [],
   "source": [
    "comm = pd.read_csv(\"./SHIBArmy_comment_1yr.csv\")"
   ]
  },
  {
   "cell_type": "code",
   "execution_count": 141,
   "metadata": {},
   "outputs": [
    {
     "data": {
      "text/html": [
       "<div>\n",
       "<style scoped>\n",
       "    .dataframe tbody tr th:only-of-type {\n",
       "        vertical-align: middle;\n",
       "    }\n",
       "\n",
       "    .dataframe tbody tr th {\n",
       "        vertical-align: top;\n",
       "    }\n",
       "\n",
       "    .dataframe thead th {\n",
       "        text-align: right;\n",
       "    }\n",
       "</style>\n",
       "<table border=\"1\" class=\"dataframe\">\n",
       "  <thead>\n",
       "    <tr style=\"text-align: right;\">\n",
       "      <th></th>\n",
       "      <th>index</th>\n",
       "      <th>id</th>\n",
       "      <th>day</th>\n",
       "      <th>utc</th>\n",
       "      <th>title</th>\n",
       "      <th>author</th>\n",
       "      <th>author_fullname</th>\n",
       "      <th>author_created_utc</th>\n",
       "      <th>url</th>\n",
       "      <th>score</th>\n",
       "    </tr>\n",
       "  </thead>\n",
       "  <tbody>\n",
       "    <tr>\n",
       "      <th>0</th>\n",
       "      <td>1</td>\n",
       "      <td>h05nv97</td>\n",
       "      <td>2021-05-31</td>\n",
       "      <td>1622519999</td>\n",
       "      <td>I wonder if it has to do with India lifting cr...</td>\n",
       "      <td>u/Shibajinkyp</td>\n",
       "      <td>u/t2_c48jq3p3</td>\n",
       "      <td>1.620945e+09</td>\n",
       "      <td>https://www.reddit.com/r/SHIBArmy/comments/npk...</td>\n",
       "      <td>4</td>\n",
       "    </tr>\n",
       "    <tr>\n",
       "      <th>1</th>\n",
       "      <td>2</td>\n",
       "      <td>h05nuuc</td>\n",
       "      <td>2021-05-31</td>\n",
       "      <td>1622519991</td>\n",
       "      <td>Ah ok dang that sucks. I hope this gets resolv...</td>\n",
       "      <td>u/Gold_Diamonds</td>\n",
       "      <td>u/t2_9oo4o8yl</td>\n",
       "      <td>1.612227e+09</td>\n",
       "      <td>https://www.reddit.com/r/SHIBArmy/comments/nph...</td>\n",
       "      <td>1</td>\n",
       "    </tr>\n",
       "    <tr>\n",
       "      <th>2</th>\n",
       "      <td>3</td>\n",
       "      <td>h05nung</td>\n",
       "      <td>2021-05-31</td>\n",
       "      <td>1622519988</td>\n",
       "      <td>my target i want  to clear all debts and also ...</td>\n",
       "      <td>u/boris7003</td>\n",
       "      <td>u/t2_bk34k</td>\n",
       "      <td>1.367663e+09</td>\n",
       "      <td>https://www.reddit.com/r/SHIBArmy/comments/npg...</td>\n",
       "      <td>2</td>\n",
       "    </tr>\n",
       "    <tr>\n",
       "      <th>3</th>\n",
       "      <td>4</td>\n",
       "      <td>h05nuj8</td>\n",
       "      <td>2021-05-31</td>\n",
       "      <td>1622519986</td>\n",
       "      <td>That’s not where they got it unfortunately</td>\n",
       "      <td>u/DogecoinToMars</td>\n",
       "      <td>u/t2_a26bysmp</td>\n",
       "      <td>1.611940e+09</td>\n",
       "      <td>https://www.reddit.com/r/SHIBArmy/comments/npk...</td>\n",
       "      <td>1</td>\n",
       "    </tr>\n",
       "    <tr>\n",
       "      <th>4</th>\n",
       "      <td>5</td>\n",
       "      <td>h05nu28</td>\n",
       "      <td>2021-05-31</td>\n",
       "      <td>1622519978</td>\n",
       "      <td>My thoughts. Fuck haters, fud spreaders, n FOM...</td>\n",
       "      <td>u/Doggybone_treat</td>\n",
       "      <td>u/t2_a2crd2gh</td>\n",
       "      <td>1.611959e+09</td>\n",
       "      <td>https://www.reddit.com/r/SHIBArmy/comments/npk...</td>\n",
       "      <td>3</td>\n",
       "    </tr>\n",
       "  </tbody>\n",
       "</table>\n",
       "</div>"
      ],
      "text/plain": [
       "   index       id         day         utc  \\\n",
       "0      1  h05nv97  2021-05-31  1622519999   \n",
       "1      2  h05nuuc  2021-05-31  1622519991   \n",
       "2      3  h05nung  2021-05-31  1622519988   \n",
       "3      4  h05nuj8  2021-05-31  1622519986   \n",
       "4      5  h05nu28  2021-05-31  1622519978   \n",
       "\n",
       "                                               title             author  \\\n",
       "0  I wonder if it has to do with India lifting cr...      u/Shibajinkyp   \n",
       "1  Ah ok dang that sucks. I hope this gets resolv...    u/Gold_Diamonds   \n",
       "2  my target i want  to clear all debts and also ...        u/boris7003   \n",
       "3         That’s not where they got it unfortunately   u/DogecoinToMars   \n",
       "4  My thoughts. Fuck haters, fud spreaders, n FOM...  u/Doggybone_treat   \n",
       "\n",
       "  author_fullname  author_created_utc  \\\n",
       "0   u/t2_c48jq3p3        1.620945e+09   \n",
       "1   u/t2_9oo4o8yl        1.612227e+09   \n",
       "2      u/t2_bk34k        1.367663e+09   \n",
       "3   u/t2_a26bysmp        1.611940e+09   \n",
       "4   u/t2_a2crd2gh        1.611959e+09   \n",
       "\n",
       "                                                 url  score  \n",
       "0  https://www.reddit.com/r/SHIBArmy/comments/npk...      4  \n",
       "1  https://www.reddit.com/r/SHIBArmy/comments/nph...      1  \n",
       "2  https://www.reddit.com/r/SHIBArmy/comments/npg...      2  \n",
       "3  https://www.reddit.com/r/SHIBArmy/comments/npk...      1  \n",
       "4  https://www.reddit.com/r/SHIBArmy/comments/npk...      3  "
      ]
     },
     "execution_count": 141,
     "metadata": {},
     "output_type": "execute_result"
    }
   ],
   "source": [
    "comm.head()"
   ]
  },
  {
   "cell_type": "code",
   "execution_count": 142,
   "metadata": {},
   "outputs": [],
   "source": [
    "comm = comm.drop(columns=['index', 'id', 'title', 'author_fullname', 'score'])"
   ]
  },
  {
   "cell_type": "code",
   "execution_count": 143,
   "metadata": {},
   "outputs": [
    {
     "data": {
      "text/html": [
       "<div>\n",
       "<style scoped>\n",
       "    .dataframe tbody tr th:only-of-type {\n",
       "        vertical-align: middle;\n",
       "    }\n",
       "\n",
       "    .dataframe tbody tr th {\n",
       "        vertical-align: top;\n",
       "    }\n",
       "\n",
       "    .dataframe thead th {\n",
       "        text-align: right;\n",
       "    }\n",
       "</style>\n",
       "<table border=\"1\" class=\"dataframe\">\n",
       "  <thead>\n",
       "    <tr style=\"text-align: right;\">\n",
       "      <th></th>\n",
       "      <th>id</th>\n",
       "      <th>day</th>\n",
       "      <th>utc</th>\n",
       "      <th>author</th>\n",
       "      <th>author_created_utc</th>\n",
       "      <th>url</th>\n",
       "    </tr>\n",
       "  </thead>\n",
       "  <tbody>\n",
       "    <tr>\n",
       "      <th>0</th>\n",
       "      <td>npl6q0</td>\n",
       "      <td>2021-05-31</td>\n",
       "      <td>1622519996</td>\n",
       "      <td>u/TANKLVMC</td>\n",
       "      <td>1.612344e+09</td>\n",
       "      <td>https://www.reddit.com/r/SHIBArmy/comments/npl...</td>\n",
       "    </tr>\n",
       "    <tr>\n",
       "      <th>1</th>\n",
       "      <td>npl5np</td>\n",
       "      <td>2021-05-31</td>\n",
       "      <td>1622519880</td>\n",
       "      <td>u/Supersandryx</td>\n",
       "      <td>1.620643e+09</td>\n",
       "      <td>https://www.reddit.com/r/SHIBArmy/comments/npl...</td>\n",
       "    </tr>\n",
       "    <tr>\n",
       "      <th>2</th>\n",
       "      <td>npl5gl</td>\n",
       "      <td>2021-05-31</td>\n",
       "      <td>1622519855</td>\n",
       "      <td>u/Ankush2021</td>\n",
       "      <td>1.622519e+09</td>\n",
       "      <td>https://www.reddit.com/r/SHIBArmy/comments/npl...</td>\n",
       "    </tr>\n",
       "    <tr>\n",
       "      <th>3</th>\n",
       "      <td>npl18y</td>\n",
       "      <td>2021-05-31</td>\n",
       "      <td>1622519435</td>\n",
       "      <td>u/sittaman</td>\n",
       "      <td>1.497539e+09</td>\n",
       "      <td>https://www.reddit.com/r/SHIBArmy/comments/npl...</td>\n",
       "    </tr>\n",
       "    <tr>\n",
       "      <th>4</th>\n",
       "      <td>npkz7l</td>\n",
       "      <td>2021-05-31</td>\n",
       "      <td>1622519243</td>\n",
       "      <td>u/Comegetsome74</td>\n",
       "      <td>1.621091e+09</td>\n",
       "      <td>https://www.reddit.com/r/SHIBArmy/comments/npk...</td>\n",
       "    </tr>\n",
       "  </tbody>\n",
       "</table>\n",
       "</div>"
      ],
      "text/plain": [
       "       id         day         utc           author  author_created_utc  \\\n",
       "0  npl6q0  2021-05-31  1622519996       u/TANKLVMC        1.612344e+09   \n",
       "1  npl5np  2021-05-31  1622519880   u/Supersandryx        1.620643e+09   \n",
       "2  npl5gl  2021-05-31  1622519855     u/Ankush2021        1.622519e+09   \n",
       "3  npl18y  2021-05-31  1622519435       u/sittaman        1.497539e+09   \n",
       "4  npkz7l  2021-05-31  1622519243  u/Comegetsome74        1.621091e+09   \n",
       "\n",
       "                                                 url  \n",
       "0  https://www.reddit.com/r/SHIBArmy/comments/npl...  \n",
       "1  https://www.reddit.com/r/SHIBArmy/comments/npl...  \n",
       "2  https://www.reddit.com/r/SHIBArmy/comments/npl...  \n",
       "3  https://www.reddit.com/r/SHIBArmy/comments/npl...  \n",
       "4  https://www.reddit.com/r/SHIBArmy/comments/npk...  "
      ]
     },
     "execution_count": 143,
     "metadata": {},
     "output_type": "execute_result"
    }
   ],
   "source": [
    "post.head()"
   ]
  },
  {
   "cell_type": "markdown",
   "metadata": {},
   "source": [
    "## Drop null data (user deleted) and draw number of post/submission each day"
   ]
  },
  {
   "cell_type": "code",
   "execution_count": 145,
   "metadata": {},
   "outputs": [
    {
     "data": {
      "text/plain": [
       "<matplotlib.axes._subplots.AxesSubplot at 0x7fe275b45e10>"
      ]
     },
     "execution_count": 145,
     "metadata": {},
     "output_type": "execute_result"
    },
    {
     "data": {
      "image/png": "[encoded data removed]",
      "text/plain": [
       "<Figure size 432x288 with 1 Axes>"
      ]
     },
     "metadata": {
      "needs_background": "light"
     },
     "output_type": "display_data"
    }
   ],
   "source": [
    "post = post[post['author_created_utc'].notnull()]\n",
    "comm = comm[comm['author_created_utc'].notnull()]\n",
    "post.groupby('day').aggregate(['count'])['id']['count'].plot()"
   ]
  },
  {
   "cell_type": "code",
   "execution_count": 274,
   "metadata": {},
   "outputs": [
    {
     "data": {
      "text/plain": [
       "<matplotlib.axes._subplots.AxesSubplot at 0x7fe21207ea10>"
      ]
     },
     "execution_count": 274,
     "metadata": {},
     "output_type": "execute_result"
    },
    {
     "data": {
      "image/png": "[encoded data removed]",
      "text/plain": [
       "<Figure size 432x288 with 1 Axes>"
      ]
     },
     "metadata": {
      "needs_background": "light"
     },
     "output_type": "display_data"
    }
   ],
   "source": [
    "comm.groupby('day').aggregate(['count'])['author']['count'].plot()"
   ]
  },
  {
   "cell_type": "markdown",
   "metadata": {},
   "source": [
    "### Define a function that draw histogram with rebinning"
   ]
  },
  {
   "cell_type": "code",
   "execution_count": 284,
   "metadata": {},
   "outputs": [],
   "source": [
    "def draw_hist_rebin(data, col, rebin, logy, logx = False):\n",
    "    rebin_joined_data = pd.cut(data[col], rebin)\n",
    "    rebin_joined_data.value_counts().plot.bar(logy = logy)"
   ]
  },
  {
   "cell_type": "markdown",
   "metadata": {},
   "source": [
    "## Join comment and post data"
   ]
  },
  {
   "cell_type": "code",
   "execution_count": 152,
   "metadata": {},
   "outputs": [],
   "source": [
    "comm['post_id'] = comm['url'].apply(lambda x: x.split(\"https://www.reddit.com/r/SHIBArmy/comments/\")[1].split(\"/\")[0])"
   ]
  },
  {
   "cell_type": "code",
   "execution_count": 172,
   "metadata": {},
   "outputs": [],
   "source": [
    "joined_data = post.merge(comm, left_on=\"id\", right_on=\"post_id\", how='left')"
   ]
  },
  {
   "cell_type": "code",
   "execution_count": 174,
   "metadata": {},
   "outputs": [],
   "source": [
    "joined_data = joined_data[joined_data['day_y'].notnull()]"
   ]
  },
  {
   "cell_type": "code",
   "execution_count": 192,
   "metadata": {},
   "outputs": [
    {
     "name": "stderr",
     "output_type": "stream",
     "text": [
      "/Users/chenxu/opt/anaconda3/lib/python3.7/site-packages/ipykernel_launcher.py:1: SettingWithCopyWarning: \n",
      "A value is trying to be set on a copy of a slice from a DataFrame.\n",
      "Try using .loc[row_indexer,col_indexer] = value instead\n",
      "\n",
      "See the caveats in the documentation: https://pandas.pydata.org/pandas-docs/stable/user_guide/indexing.html#returning-a-view-versus-a-copy\n",
      "  \"\"\"Entry point for launching an IPython kernel.\n"
     ]
    }
   ],
   "source": [
    "joined_data['time_diff'] = (joined_data['utc_y'] - joined_data['utc_x']).apply(lambda x: int(x)) // (3600)"
   ]
  },
  {
   "cell_type": "markdown",
   "metadata": {},
   "source": [
    "## Rebin data and draw comment-post time diff histogram"
   ]
  },
  {
   "cell_type": "code",
   "execution_count": 272,
   "metadata": {},
   "outputs": [
    {
     "data": {
      "text/plain": [
       "(-1, 24]       0.873696\n",
       "(120, 720]     0.058793\n",
       "(24, 120]      0.037625\n",
       "(720, 4500]    0.029886\n",
       "Name: time_diff, dtype: float64"
      ]
     },
     "execution_count": 272,
     "metadata": {},
     "output_type": "execute_result"
    }
   ],
   "source": [
    "rebin_joined_data = pd.cut(joined_data[joined_data['day_x'] < '2021-05-01']['time_diff'], [-1,24,120,720, 4500])\n",
    "rebin_joined_data.value_counts()/sum(rebin_joined_data.value_counts())"
   ]
  },
  {
   "cell_type": "code",
   "execution_count": 279,
   "metadata": {},
   "outputs": [
    {
     "data": {
      "text/plain": [
       "<matplotlib.axes._subplots.AxesSubplot at 0x7fe210bcef10>"
      ]
     },
     "execution_count": 279,
     "metadata": {},
     "output_type": "execute_result"
    },
    {
     "data": {
      "image/png": "[encoded data removed]",
      "text/plain": [
       "<Figure size 432x288 with 1 Axes>"
      ]
     },
     "metadata": {
      "needs_background": "light"
     },
     "output_type": "display_data"
    }
   ],
   "source": [
    "(rebin_joined_data.value_counts()/sum(rebin_joined_data.value_counts())).plot.bar()"
   ]
  },
  {
   "cell_type": "code",
   "execution_count": 276,
   "metadata": {},
   "outputs": [
    {
     "data": {
      "image/png": "[encoded data removed]",
      "text/plain": [
       "<Figure size 432x288 with 1 Axes>"
      ]
     },
     "metadata": {
      "needs_background": "light"
     },
     "output_type": "display_data"
    }
   ],
   "source": [
    "draw_hist_rebin(joined_data[joined_data['day_x'] < '2021-05-01'], 'time_diff', [-1,24,120,720, 4500], True)"
   ]
  },
  {
   "cell_type": "markdown",
   "metadata": {},
   "source": [
    "## Drop one week data for post in order to have a better estimation on # of comments for each post "
   ]
  },
  {
   "cell_type": "code",
   "execution_count": 236,
   "metadata": {},
   "outputs": [],
   "source": [
    "joined_data = joined_data[joined_data['day_x'] <= '2021-05-25']"
   ]
  },
  {
   "cell_type": "code",
   "execution_count": 280,
   "metadata": {},
   "outputs": [
    {
     "data": {
      "text/html": [
       "<div>\n",
       "<style scoped>\n",
       "    .dataframe tbody tr th:only-of-type {\n",
       "        vertical-align: middle;\n",
       "    }\n",
       "\n",
       "    .dataframe tbody tr th {\n",
       "        vertical-align: top;\n",
       "    }\n",
       "\n",
       "    .dataframe thead th {\n",
       "        text-align: right;\n",
       "    }\n",
       "</style>\n",
       "<table border=\"1\" class=\"dataframe\">\n",
       "  <thead>\n",
       "    <tr style=\"text-align: right;\">\n",
       "      <th></th>\n",
       "      <th>id</th>\n",
       "      <th>day_x</th>\n",
       "      <th>utc_x</th>\n",
       "      <th>author_x</th>\n",
       "      <th>author_created_utc_x</th>\n",
       "      <th>url_x</th>\n",
       "      <th>day_y</th>\n",
       "      <th>utc_y</th>\n",
       "      <th>author_y</th>\n",
       "      <th>author_created_utc_y</th>\n",
       "      <th>url_y</th>\n",
       "      <th>post_id</th>\n",
       "      <th>time_diff</th>\n",
       "    </tr>\n",
       "  </thead>\n",
       "  <tbody>\n",
       "    <tr>\n",
       "      <th>45534</th>\n",
       "      <td>nl7tdx</td>\n",
       "      <td>2021-05-25</td>\n",
       "      <td>1622001554</td>\n",
       "      <td>u/Single_Algae_3530</td>\n",
       "      <td>1.611770e+09</td>\n",
       "      <td>https://www.reddit.com/r/SHIBArmy/comments/nl7...</td>\n",
       "      <td>2021-05-26</td>\n",
       "      <td>1.622005e+09</td>\n",
       "      <td>u/Single_Algae_3530</td>\n",
       "      <td>1.611770e+09</td>\n",
       "      <td>https://www.reddit.com/r/SHIBArmy/comments/nl7...</td>\n",
       "      <td>nl7tdx</td>\n",
       "      <td>1</td>\n",
       "    </tr>\n",
       "    <tr>\n",
       "      <th>45535</th>\n",
       "      <td>nl7tdx</td>\n",
       "      <td>2021-05-25</td>\n",
       "      <td>1622001554</td>\n",
       "      <td>u/Single_Algae_3530</td>\n",
       "      <td>1.611770e+09</td>\n",
       "      <td>https://www.reddit.com/r/SHIBArmy/comments/nl7...</td>\n",
       "      <td>2021-05-26</td>\n",
       "      <td>1.622005e+09</td>\n",
       "      <td>u/Single_Algae_3530</td>\n",
       "      <td>1.611770e+09</td>\n",
       "      <td>https://www.reddit.com/r/SHIBArmy/comments/nl7...</td>\n",
       "      <td>nl7tdx</td>\n",
       "      <td>0</td>\n",
       "    </tr>\n",
       "    <tr>\n",
       "      <th>45536</th>\n",
       "      <td>nl7tdx</td>\n",
       "      <td>2021-05-25</td>\n",
       "      <td>1622001554</td>\n",
       "      <td>u/Single_Algae_3530</td>\n",
       "      <td>1.611770e+09</td>\n",
       "      <td>https://www.reddit.com/r/SHIBArmy/comments/nl7...</td>\n",
       "      <td>2021-05-26</td>\n",
       "      <td>1.622005e+09</td>\n",
       "      <td>u/Single_Algae_3530</td>\n",
       "      <td>1.611770e+09</td>\n",
       "      <td>https://www.reddit.com/r/SHIBArmy/comments/nl7...</td>\n",
       "      <td>nl7tdx</td>\n",
       "      <td>0</td>\n",
       "    </tr>\n",
       "    <tr>\n",
       "      <th>45537</th>\n",
       "      <td>nl7tdx</td>\n",
       "      <td>2021-05-25</td>\n",
       "      <td>1622001554</td>\n",
       "      <td>u/Single_Algae_3530</td>\n",
       "      <td>1.611770e+09</td>\n",
       "      <td>https://www.reddit.com/r/SHIBArmy/comments/nl7...</td>\n",
       "      <td>2021-05-26</td>\n",
       "      <td>1.622005e+09</td>\n",
       "      <td>u/Single_Algae_3530</td>\n",
       "      <td>1.611770e+09</td>\n",
       "      <td>https://www.reddit.com/r/SHIBArmy/comments/nl7...</td>\n",
       "      <td>nl7tdx</td>\n",
       "      <td>0</td>\n",
       "    </tr>\n",
       "    <tr>\n",
       "      <th>45538</th>\n",
       "      <td>nl7tdx</td>\n",
       "      <td>2021-05-25</td>\n",
       "      <td>1622001554</td>\n",
       "      <td>u/Single_Algae_3530</td>\n",
       "      <td>1.611770e+09</td>\n",
       "      <td>https://www.reddit.com/r/SHIBArmy/comments/nl7...</td>\n",
       "      <td>2021-05-26</td>\n",
       "      <td>1.622005e+09</td>\n",
       "      <td>u/Captain_Bonez</td>\n",
       "      <td>1.545600e+09</td>\n",
       "      <td>https://www.reddit.com/r/SHIBArmy/comments/nl7...</td>\n",
       "      <td>nl7tdx</td>\n",
       "      <td>0</td>\n",
       "    </tr>\n",
       "  </tbody>\n",
       "</table>\n",
       "</div>"
      ],
      "text/plain": [
       "           id       day_x       utc_x             author_x  \\\n",
       "45534  nl7tdx  2021-05-25  1622001554  u/Single_Algae_3530   \n",
       "45535  nl7tdx  2021-05-25  1622001554  u/Single_Algae_3530   \n",
       "45536  nl7tdx  2021-05-25  1622001554  u/Single_Algae_3530   \n",
       "45537  nl7tdx  2021-05-25  1622001554  u/Single_Algae_3530   \n",
       "45538  nl7tdx  2021-05-25  1622001554  u/Single_Algae_3530   \n",
       "\n",
       "       author_created_utc_x  \\\n",
       "45534          1.611770e+09   \n",
       "45535          1.611770e+09   \n",
       "45536          1.611770e+09   \n",
       "45537          1.611770e+09   \n",
       "45538          1.611770e+09   \n",
       "\n",
       "                                                   url_x       day_y  \\\n",
       "45534  https://www.reddit.com/r/SHIBArmy/comments/nl7...  2021-05-26   \n",
       "45535  https://www.reddit.com/r/SHIBArmy/comments/nl7...  2021-05-26   \n",
       "45536  https://www.reddit.com/r/SHIBArmy/comments/nl7...  2021-05-26   \n",
       "45537  https://www.reddit.com/r/SHIBArmy/comments/nl7...  2021-05-26   \n",
       "45538  https://www.reddit.com/r/SHIBArmy/comments/nl7...  2021-05-26   \n",
       "\n",
       "              utc_y             author_y  author_created_utc_y  \\\n",
       "45534  1.622005e+09  u/Single_Algae_3530          1.611770e+09   \n",
       "45535  1.622005e+09  u/Single_Algae_3530          1.611770e+09   \n",
       "45536  1.622005e+09  u/Single_Algae_3530          1.611770e+09   \n",
       "45537  1.622005e+09  u/Single_Algae_3530          1.611770e+09   \n",
       "45538  1.622005e+09      u/Captain_Bonez          1.545600e+09   \n",
       "\n",
       "                                                   url_y post_id  time_diff  \n",
       "45534  https://www.reddit.com/r/SHIBArmy/comments/nl7...  nl7tdx          1  \n",
       "45535  https://www.reddit.com/r/SHIBArmy/comments/nl7...  nl7tdx          0  \n",
       "45536  https://www.reddit.com/r/SHIBArmy/comments/nl7...  nl7tdx          0  \n",
       "45537  https://www.reddit.com/r/SHIBArmy/comments/nl7...  nl7tdx          0  \n",
       "45538  https://www.reddit.com/r/SHIBArmy/comments/nl7...  nl7tdx          0  "
      ]
     },
     "execution_count": 280,
     "metadata": {},
     "output_type": "execute_result"
    }
   ],
   "source": [
    "joined_data.head()"
   ]
  },
  {
   "cell_type": "markdown",
   "metadata": {},
   "source": [
    "## Group the data by post id, treating each post as a node in the network\n",
    "Note that at this point, we allow multi-links and self-multi-links for target node"
   ]
  },
  {
   "cell_type": "code",
   "execution_count": 238,
   "metadata": {},
   "outputs": [],
   "source": [
    "group_by_id = joined_data.groupby('id').aggregate(['max','count'])"
   ]
  },
  {
   "cell_type": "code",
   "execution_count": 286,
   "metadata": {},
   "outputs": [
    {
     "data": {
      "image/png": "[encoded data removed]",
      "text/plain": [
       "<Figure size 432x288 with 1 Axes>"
      ]
     },
     "metadata": {
      "needs_background": "light"
     },
     "output_type": "display_data"
    }
   ],
   "source": [
    "# draw the max time diff hist, aiming at last comment of each post\n",
    "draw_hist_rebin(group_by_id['time_diff'], 'max', [-1,24,120,720, 4500], True)"
   ]
  },
  {
   "cell_type": "code",
   "execution_count": 216,
   "metadata": {},
   "outputs": [
    {
     "data": {
      "text/plain": [
       "count    31090.000000\n",
       "mean        18.276166\n",
       "std        127.520575\n",
       "min          0.000000\n",
       "25%          0.000000\n",
       "50%          1.000000\n",
       "75%          4.000000\n",
       "max       4319.000000\n",
       "Name: max, dtype: float64"
      ]
     },
     "execution_count": 216,
     "metadata": {},
     "output_type": "execute_result"
    }
   ],
   "source": [
    "group_by_id['time_diff']['max'].describe()"
   ]
  },
  {
   "cell_type": "code",
   "execution_count": 304,
   "metadata": {},
   "outputs": [
    {
     "data": {
      "text/plain": [
       "id\n",
       "i32i8a     9\n",
       "l8hegz     3\n",
       "l8nvae     1\n",
       "l8rl9f     1\n",
       "l8usb3    13\n",
       "Name: count, dtype: int64"
      ]
     },
     "execution_count": 304,
     "metadata": {},
     "output_type": "execute_result"
    }
   ],
   "source": [
    "group_by_id['time_diff']['count'][0:5]"
   ]
  },
  {
   "cell_type": "code",
   "execution_count": 289,
   "metadata": {},
   "outputs": [
    {
     "data": {
      "image/png": "[encoded data removed]",
      "text/plain": [
       "<Figure size 432x288 with 1 Axes>"
      ]
     },
     "metadata": {
      "needs_background": "light"
     },
     "output_type": "display_data"
    }
   ],
   "source": [
    "draw_hist_rebin(group_by_id['time_diff'], 'count', [-1,24,120,720, 4500], True)"
   ]
  },
  {
   "cell_type": "code",
   "execution_count": 388,
   "metadata": {},
   "outputs": [
    {
     "name": "stdout",
     "output_type": "stream",
     "text": [
      "[1, 11, 21, 31, 41, 51, 61, 71, 81, 91, 101, 111, 121, 131, 141, 151, 161, 171, 181, 191, 4500]\n"
     ]
    },
    {
     "data": {
      "image/png": "[encoded data removed]",
      "text/plain": [
       "<Figure size 648x432 with 1 Axes>"
      ]
     },
     "metadata": {
      "needs_background": "light"
     },
     "output_type": "display_data"
    }
   ],
   "source": [
    "import matplotlib.pyplot as plt\n",
    "def draw_hist_weighted_rebin(data, col, bins, logy, igore_bins = 2):\n",
    "    def find_bin(bins, value):\n",
    "        l = 0\n",
    "        r = len(bins) - 1\n",
    "        while l < r:\n",
    "            mid = (l + r) // 2 + 1\n",
    "            if bins[mid] > value:\n",
    "                r = mid - 1\n",
    "            else:\n",
    "                l = mid\n",
    "        return l\n",
    "    container = [[] for i in range(len(bins))]\n",
    "    if col is not None:\n",
    "        for count in data[col]:\n",
    "            ind = find_bin(bins, count)\n",
    "            container[ind].append(count)\n",
    "    else:\n",
    "        for count in data:\n",
    "            ind = find_bin(bins, count)\n",
    "            container[ind].append(count)\n",
    "    #print(container)\n",
    "    x = [sum(i) / len(i) for i in container]\n",
    "    y = [len(i) for i in container]\n",
    "    \n",
    "    fig, ax = plt.subplots(figsize = (9, 6))\n",
    "    ax.scatter(x, y, s=60, alpha=0.7, edgecolors=\"k\");\n",
    "    ax.set_yscale(\"log\");\n",
    "    plt.xlim([0, bins[len(bins) - igore_bins] + 20])\n",
    "bins = [i for i in range(1, 201, 10)]\n",
    "bins.append(4500)\n",
    "print(bins)\n",
    "draw_hist_weighted_rebin(group_by_id['time_diff'], 'count', bins, True, 2)"
   ]
  },
  {
   "cell_type": "code",
   "execution_count": 291,
   "metadata": {},
   "outputs": [
    {
     "name": "stdout",
     "output_type": "stream",
     "text": [
      "11932\n",
      "(27396, 24)\n"
     ]
    }
   ],
   "source": [
    "# Check users that make a post\n",
    "print(len(group_by_id['author_x'][max].unique()))\n",
    "print(group_by_id.shape)"
   ]
  },
  {
   "cell_type": "code",
   "execution_count": 290,
   "metadata": {},
   "outputs": [
    {
     "data": {
      "text/plain": [
       "14.985851006327303"
      ]
     },
     "execution_count": 290,
     "metadata": {},
     "output_type": "execute_result"
    }
   ],
   "source": [
    "# Check the rate of reply made by author of the post\n",
    "joined_data[joined_data['author_x'] == joined_data['author_y']].shape[0] / joined_data.shape[0] * 100"
   ]
  },
  {
   "cell_type": "markdown",
   "metadata": {},
   "source": [
    "## Group the data by user id, treating each user as a node in the network\n",
    "Note that at this point, we allow multi-links and self-multi-links for target node"
   ]
  },
  {
   "cell_type": "code",
   "execution_count": 229,
   "metadata": {},
   "outputs": [],
   "source": [
    "group_by_name = joined_data.groupby('author_x').aggregate(['max','count'])"
   ]
  },
  {
   "cell_type": "code",
   "execution_count": 361,
   "metadata": {},
   "outputs": [
    {
     "data": {
      "image/png": "[encoded data removed]",
      "text/plain": [
       "<Figure size 648x432 with 1 Axes>"
      ]
     },
     "metadata": {
      "needs_background": "light"
     },
     "output_type": "display_data"
    }
   ],
   "source": [
    "bins = [i for i in range(1, 201, 10)]\n",
    "bins.append(4500)\n",
    "draw_hist_weighted_rebin(group_by_name['time_diff'], 'count', bins, True)"
   ]
  },
  {
   "cell_type": "markdown",
   "metadata": {},
   "source": [
    "## Previous plots allow multi-links and self-links for each node. From this point, we will remove those dup and self links"
   ]
  },
  {
   "cell_type": "code",
   "execution_count": 347,
   "metadata": {},
   "outputs": [],
   "source": [
    "joined_data_groupby_id_remove_dup = joined_data[['id', 'author_x', 'author_y']].groupby('id').author_y.nunique()"
   ]
  },
  {
   "cell_type": "code",
   "execution_count": 373,
   "metadata": {},
   "outputs": [],
   "source": [
    "joined_data_groupby_author_remove_dup = joined_data[['id', 'author_x', 'author_y']].groupby('author_x').author_y.nunique()\n"
   ]
  },
  {
   "cell_type": "code",
   "execution_count": 349,
   "metadata": {},
   "outputs": [],
   "source": [
    "joined_data_remove_author = joined_data[['id', 'author_x', 'author_y']][joined_data[['id', 'author_x', 'author_y']]['author_x'] != joined_data[['id', 'author_x', 'author_y']]['author_y']]"
   ]
  },
  {
   "cell_type": "code",
   "execution_count": 351,
   "metadata": {},
   "outputs": [],
   "source": [
    "joined_data_remove_author_groupby_id_remove_dup = joined_data_remove_author[['id', 'author_x', 'author_y']].groupby('id').author_y.nunique()\n",
    "joined_data_remove_author_groupby_author_remove_dup = joined_data_remove_author[['id', 'author_x', 'author_y']].groupby('author_x').author_y.nunique()"
   ]
  },
  {
   "cell_type": "markdown",
   "metadata": {},
   "source": [
    "## Multi-comments by the same user count as 1 link, treat each post as a node"
   ]
  },
  {
   "cell_type": "code",
   "execution_count": 391,
   "metadata": {},
   "outputs": [
    {
     "data": {
      "image/png": "[encoded data removed]",
      "text/plain": [
       "<Figure size 648x432 with 1 Axes>"
      ]
     },
     "metadata": {
      "needs_background": "light"
     },
     "output_type": "display_data"
    }
   ],
   "source": [
    "bins = [i for i in range(1, 201, 10)]\n",
    "#bins.append(4500)\n",
    "draw_hist_weighted_rebin(joined_data_groupby_id_remove_dup, None, bins, True)"
   ]
  },
  {
   "cell_type": "markdown",
   "metadata": {},
   "source": [
    "## Multi-comments by the same user count as 1 link, treat each user as a node"
   ]
  },
  {
   "cell_type": "code",
   "execution_count": 392,
   "metadata": {},
   "outputs": [
    {
     "data": {
      "image/png": "[encoded data removed]",
      "text/plain": [
       "<Figure size 648x432 with 1 Axes>"
      ]
     },
     "metadata": {
      "needs_background": "light"
     },
     "output_type": "display_data"
    }
   ],
   "source": [
    "draw_hist_weighted_rebin(joined_data_groupby_author_remove_dup, None, bins, True)"
   ]
  },
  {
   "cell_type": "markdown",
   "metadata": {},
   "source": [
    "## Further remove comments from author who post the post, treat each post as a node"
   ]
  },
  {
   "cell_type": "code",
   "execution_count": 393,
   "metadata": {},
   "outputs": [
    {
     "data": {
      "image/png": "[encoded data removed]",
      "text/plain": [
       "<Figure size 648x432 with 1 Axes>"
      ]
     },
     "metadata": {
      "needs_background": "light"
     },
     "output_type": "display_data"
    }
   ],
   "source": [
    "draw_hist_weighted_rebin(joined_data_remove_author_groupby_id_remove_dup, None, bins, True)"
   ]
  },
  {
   "cell_type": "markdown",
   "metadata": {},
   "source": [
    "## Further remove comments from author who post the post, treat each user as a node"
   ]
  },
  {
   "cell_type": "code",
   "execution_count": 394,
   "metadata": {},
   "outputs": [
    {
     "data": {
      "image/png": "[encoded data removed]",
      "text/plain": [
       "<Figure size 648x432 with 1 Axes>"
      ]
     },
     "metadata": {
      "needs_background": "light"
     },
     "output_type": "display_data"
    }
   ],
   "source": [
    "draw_hist_weighted_rebin(joined_data_remove_author_groupby_author_remove_dup, None, bins, True)"
   ]
  },
  {
   "cell_type": "code",
   "execution_count": null,
   "metadata": {},
   "outputs": [],
   "source": []
  }
 ],
 "metadata": {
  "kernelspec": {
   "display_name": "Python 3",
   "language": "python",
   "name": "python3"
  },
  "language_info": {
   "codemirror_mode": {
    "name": "ipython",
    "version": 3
   },
   "file_extension": ".py",
   "mimetype": "text/x-python",
   "name": "python",
   "nbconvert_exporter": "python",
   "pygments_lexer": "ipython3",
   "version": "3.7.6"
  }
 },
 "nbformat": 4,
 "nbformat_minor": 4
}
