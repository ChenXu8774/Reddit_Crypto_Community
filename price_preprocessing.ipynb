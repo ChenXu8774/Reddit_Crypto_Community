{
 "cells": [
  {
   "cell_type": "code",
   "execution_count": 1,
   "metadata": {},
   "outputs": [],
   "source": [
    "import pandas as pd\n",
    "import numpy as np\n",
    "import matplotlib.pyplot as plt"
   ]
  },
  {
   "cell_type": "code",
   "execution_count": 4,
   "metadata": {},
   "outputs": [],
   "source": [
    "def merge_two_dogecoin_data():\n",
    "    \"\"\" Merge two datasets for Dogecoin price with different time ranges and sources.\n",
    "    Args: \n",
    "    \"\"\"\n",
    "    # Read doge coin price data from two different sources\n",
    "    df_doge1 = pd.read_csv(\"DOGE_1Y_graph_coinmarketcap.csv\", sep = \";\")\n",
    "    df_doge2 = pd.read_csv(\"DOGE_ALL_graph_coinmarketcap.csv\")\n",
    "    \n",
    "    # Apply data manipulation to standarlize two datasets\n",
    "    df_doge1 = df_doge1.drop(columns=['marketCap'])\n",
    "    df_doge1['timestamp'] = df_doge1['timestamp'].apply(lambda x: x.split(\"T\")[0])\n",
    "    df_doge2['timestamp'] = df_doge2['timestamp'].apply(lambda x: \"20\" + x.split(\"/\")[2] + \"-\" + \"{month:02d}\".format(month = int(x.split(\"/\")[0])) + \"-\" + \n",
    "                            \"{day:02d}\".format(day = int(x.split(\"/\")[1])))\n",
    "    df_doge2_0503 = df_doge2[df_doge2['timestamp'] <= \"2022-05-03\"]\n",
    "    \n",
    "    # Merge to datasets and save it as csv file\n",
    "    df_doge_merge = df_doge1.append(df_doge2_0503, ignore_index=True)\n",
    "    df_doge_merge = df_doge_merge.sort_values('timestamp')\n",
    "    df_doge_merge.to_csv(\"DOGE_20170603_graph.csv\",index=False)"
   ]
  },
  {
   "cell_type": "code",
   "execution_count": 8,
   "metadata": {},
   "outputs": [],
   "source": [
    "merge_two_dogecoin_data()"
   ]
  },
  {
   "cell_type": "code",
   "execution_count": 28,
   "metadata": {},
   "outputs": [],
   "source": [
    "def data_preprocessing(file_name, sep, output_name):\n",
    "    \"\"\" Read the csv file\n",
    "    Args: \n",
    "    file_name (string): the input csv file name\n",
    "    sep (string): seperator in csv\n",
    "    \"\"\"\n",
    "    df = pd.read_csv(file_name, sep = sep)\n",
    "    if 'marketCap' in df.columns:\n",
    "        df = df.drop(columns = ['marketCap'])\n",
    "    df['timestamp'] = df['timestamp'].apply(lambda x: x.split(\"T\")[0])\n",
    "    df['daily-change'] = (df['close'] - df['open']) / df['open']  \n",
    "    df['low_high_ratio'] = df['high'] / df['low']\n",
    "    df.to_csv(output_name, index = False)"
   ]
  },
  {
   "cell_type": "code",
   "execution_count": 29,
   "metadata": {},
   "outputs": [],
   "source": [
    "data_preprocessing(\"DOGE_20170603_graph.csv\", \",\", \"DOGE_final.csv\")"
   ]
  },
  {
   "cell_type": "code",
   "execution_count": 30,
   "metadata": {},
   "outputs": [],
   "source": [
    "data_preprocessing(\"SHIB_ALL_graph_coinmarketcap.csv\", \";\", \"SHIBA_final.csv\")"
   ]
  },
  {
   "cell_type": "code",
   "execution_count": null,
   "metadata": {},
   "outputs": [],
   "source": []
  }
 ],
 "metadata": {
  "kernelspec": {
   "display_name": "Python 3",
   "language": "python",
   "name": "python3"
  },
  "language_info": {
   "codemirror_mode": {
    "name": "ipython",
    "version": 3
   },
   "file_extension": ".py",
   "mimetype": "text/x-python",
   "name": "python",
   "nbconvert_exporter": "python",
   "pygments_lexer": "ipython3",
   "version": "3.7.6"
  }
 },
 "nbformat": 4,
 "nbformat_minor": 4
}
